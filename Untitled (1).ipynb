{
 "cells": [
  {
   "cell_type": "code",
   "execution_count": 1,
   "id": "67661e48-999f-42f6-baf6-a95123bb401d",
   "metadata": {},
   "outputs": [],
   "source": [
    "import requests\n",
    "import time\n",
    "import re \n",
    "import random"
   ]
  },
  {
   "cell_type": "code",
   "execution_count": 35,
   "id": "c9b04b34-1ff0-4752-b656-2b01b9f8569a",
   "metadata": {},
   "outputs": [],
   "source": [
    "url =\"https://genius.com/The-weeknd-starboy-lyrics\"\n",
    "class_to_get=\"Lyrics__Container-sc-1ynbvzw-5 Dzxov\""
   ]
  },
  {
   "cell_type": "code",
   "execution_count": 36,
   "id": "c9c76eac-c4c8-4595-9343-7131ed36eefd",
   "metadata": {},
   "outputs": [],
   "source": [
    "req =  requests.get(url)\n",
    "text = req.text"
   ]
  },
  {
   "cell_type": "code",
   "execution_count": 8,
   "id": "d4ec2696-364e-4bbd-b8b5-0f305d74ce96",
   "metadata": {},
   "outputs": [
    {
     "name": "stdout",
     "output_type": "stream",
     "text": [
      "['Hello, World!<div class=\"mysdfsdfsclass\">Goodbye, World!']\n"
     ]
    }
   ],
   "source": [
    "import re\n",
    "\n",
    "def extract_data_from_element(html, css_class):\n",
    "    pattern = r'<[^>]*class\\s*=\\s*[\\'\"]{}[\\'\"][^>]*>(.*?)</[^>]*>'.format(css_class)\n",
    "    matches = re.findall(pattern, html, re.DOTALL)\n",
    "    return matches\n",
    "\n",
    "# Example usage\n",
    "html = '<div class=\"my-class\">Hello, World!<div class=\"mysdfsdfsclass\">Goodbye, World!</div></div>'\n",
    "css_class = 'my-class'\n",
    "data = extract_data_from_element(html, css_class)\n",
    "print(data)  # Output: ['Hello, World!', 'Goodbye, World!']\n"
   ]
  },
  {
   "cell_type": "code",
   "execution_count": 30,
   "id": "fd1357a8-c4f0-46bb-b938-76d1afbf7adb",
   "metadata": {},
   "outputs": [
    {
     "name": "stdout",
     "output_type": "stream",
     "text": [
      "Hello, World!Goodbye, World!\n"
     ]
    }
   ],
   "source": [
    "from bs4 import BeautifulSoup\n",
    "\n",
    "def extract_data_from_element(html, css_class):\n",
    "    soup = BeautifulSoup(html, 'html.parser')\n",
    "    elements = soup.find_all(class_=css_class)\n",
    "    data = [\"\\n\".join(element.stripped_strings) for element in elements]\n",
    "    return \"\".join(re.split(r'\\[.*?\\]',\"\".join(data)))\n",
    "\n",
    "# Example usage\n",
    "html = '<div class=\"my-class\">Hello, World!</div><div class=\"my-class\">Goodbye, World!</div>'\n",
    "css_class = 'my-class'\n",
    "data = extract_data_from_element(html, css_class)\n",
    "print(data)  # Output: ['Hello, World!', 'Goodbye, World!']\n"
   ]
  },
  {
   "cell_type": "code",
   "execution_count": null,
   "id": "c05b0717-a17e-4be5-82cd-e289fd11f314",
   "metadata": {},
   "outputs": [],
   "source": [
    "print(req.text)"
   ]
  },
  {
   "cell_type": "code",
   "execution_count": null,
   "id": "f59199a0-59e5-4ba8-b464-fdde7c21b396",
   "metadata": {},
   "outputs": [],
   "source": []
  },
  {
   "cell_type": "code",
   "execution_count": null,
   "id": "bcd024e1-c292-42ef-8844-7412bc158ac5",
   "metadata": {},
   "outputs": [],
   "source": [
    "major=extract_data_from_element(text,class_to_get)"
   ]
  },
  {
   "cell_type": "code",
   "execution_count": 25,
   "id": "dd52039f-d5a4-4dcb-9a88-54339778d9e8",
   "metadata": {},
   "outputs": [
    {
     "data": {
      "text/plain": [
       "'Lyrics__Container-sc-1ynbvzw-5 Dzxov'"
      ]
     },
     "execution_count": 25,
     "metadata": {},
     "output_type": "execute_result"
    }
   ],
   "source": [
    "class_to_get"
   ]
  },
  {
   "cell_type": "code",
   "execution_count": null,
   "id": "e33410fb-7e46-4589-8c43-fbb3964ecbc5",
   "metadata": {},
   "outputs": [],
   "source": [
    "print(major)"
   ]
  },
  {
   "cell_type": "code",
   "execution_count": 16,
   "id": "7ac1582c-5b1d-4cd3-839f-eb1c88610e49",
   "metadata": {},
   "outputs": [
    {
     "name": "stdout",
     "output_type": "stream",
     "text": [
      "\n",
      "Yeah\n",
      "\n",
      "I've been tryna call\n",
      "I've been on my own for long enough\n",
      "Maybe you can show me how to love, maybe\n",
      "I'm goin' through withdrawals\n",
      "You don't even have to do too much\n",
      "You can turn me on with just a touch, baby\n",
      "\n",
      "I look around and\n",
      "Sin City's cold and empty (Oh)\n",
      "No one's around to judge me (Oh)\n",
      "I can't see clearly when you're gone\n",
      "\n",
      "I said, ooh, I'm blinded by the lights\n",
      "No, I can't sleep until I feel your touch\n",
      "I said, ooh, I'm drowning in the night\n",
      "Oh, when I'm like this, you're the one I trust\n",
      "Hey, hey, hey\n",
      "\n",
      "I'm running out of time\n",
      "'Cause I can see the sun light up the sky\n",
      "So I hit the road in overdrive, baby, oh\n"
     ]
    }
   ],
   "source": [
    "print(\"\".join(re.split(r'\\[.*?\\]',major)))"
   ]
  }
 ],
 "metadata": {
  "kernelspec": {
   "display_name": "default:Python",
   "language": "python",
   "name": "conda-env-default-py"
  },
  "language_info": {
   "codemirror_mode": {
    "name": "ipython",
    "version": 3
   },
   "file_extension": ".py",
   "mimetype": "text/x-python",
   "name": "python",
   "nbconvert_exporter": "python",
   "pygments_lexer": "ipython3",
   "version": "3.9.13"
  }
 },
 "nbformat": 4,
 "nbformat_minor": 5
}
